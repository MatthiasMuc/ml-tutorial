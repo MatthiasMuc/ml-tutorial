{
 "cells": [
  {
   "cell_type": "code",
   "execution_count": null,
   "metadata": {},
   "outputs": [],
   "source": [
    "# Load the TensorBoard notebook extension\n",
    "%load_ext tensorboard\n",
    "#%tensorboard --logdir runs\n"
   ]
  },
  {
   "cell_type": "code",
   "execution_count": 79,
   "metadata": {},
   "outputs": [],
   "source": [
    "from datetime import datetime\n",
    "import matplotlib.pyplot as plt\n",
    "import numpy as np\n",
    "import pandas as pd\n",
    "from sklearn.metrics import confusion_matrix\n",
    "from sklearn.model_selection import train_test_split\n",
    "import torch\n",
    "import torch.nn as nn\n",
    "from torch.utils.tensorboard import SummaryWriter\n",
    "\n",
    "# Constants\n",
    "DATA_PATH = \"../../data/iris_binary.csv\"  # location of data\n",
    "LOG_PATH = \"runs/02-pytorch/\"  # loc where info for tensorboard is written\n"
   ]
  },
  {
   "cell_type": "code",
   "execution_count": null,
   "metadata": {},
   "outputs": [],
   "source": [
    "def read_data(dataPath):\n",
    "    data = pd.read_csv(DATA_PATH)\n",
    "    print(data.head())\n",
    "    return torch.tensor(data.values,dtype=torch.float)\n"
   ]
  },
  {
   "cell_type": "code",
   "execution_count": 100,
   "metadata": {},
   "outputs": [],
   "source": [
    "def pltConfMatrix(ax, confArr2d, title=\"Confusion Matrix\", xLabel=\"Predictions\", yLabel=\"Real values\", cmap=plt.cm.Reds, alpha=0.3):\n",
    "\n",
    "    ax.matshow(confArr2d, cmap=cmap, alpha=alpha)\n",
    "\n",
    "    # write numbers in boxes\n",
    "    for i in range(confArr2d.shape[0]):\n",
    "        for j in range(confArr2d.shape[1]):\n",
    "            ax.text(x=j, y=i, s=confArr2d[i, j], va=\"center\", ha=\"center\", size=\"xx-large\")\n",
    "\n",
    "    plt.xlabel(xLabel, fontsize=18)\n",
    "    plt.ylabel(yLabel, fontsize=18)\n",
    "    plt.title(title, fontsize=18)\n",
    "    plt.show()\n"
   ]
  },
  {
   "cell_type": "code",
   "execution_count": null,
   "metadata": {},
   "outputs": [],
   "source": [
    "device = torch.device(\"cuda:0\" if torch.cuda.is_available() else \"cpu\")\n"
   ]
  },
  {
   "cell_type": "code",
   "execution_count": null,
   "metadata": {},
   "outputs": [],
   "source": [
    "class FirstModel(nn.Module):\n",
    "    def __init__(self):\n",
    "        super(FirstModel, self).__init__()\n",
    "        # first layer: input layer (4 values)\n",
    "        self.fc1 = nn.Linear(4,4)\n",
    "        # second layer: output layer layer (4 input values, 1 output layer)\n",
    "        self.fc2 = nn.Linear(4,1)\n",
    "\n",
    "    # function for forwarding: must be passed through all layers\n",
    "    def forward(self, x):\n",
    "\n",
    "        # input layer - activation:\n",
    "        #x = torch.sigmoid(self.fc1(x))\n",
    "        x = self.fc1(x)\n",
    "\n",
    "        # output layer - activation:\n",
    "        x = torch.sigmoid(self.fc2(x))\n",
    "\n",
    "        #print(\"forwar: return \", x)\n",
    "        return x\n"
   ]
  },
  {
   "cell_type": "code",
   "execution_count": null,
   "metadata": {},
   "outputs": [],
   "source": [
    "# read iris data\n",
    "dataArr = read_data(DATA_PATH)\n",
    "# print(\"dataArr: \", dataArr)\n",
    "\n",
    "# select data\n",
    "X = dataArr[:, 0:4]\n",
    "# print(\"X: \", X)\n",
    "y = dataArr[:, 4]\n",
    "y = y.view(y.shape[0], 1)\n",
    "\n",
    "# split training and test data (random state: int -> reproducible)\n",
    "X_train, X_test, y_train, y_test = train_test_split(\n",
    "   X, y, test_size=0.2, random_state=42\n",
    ")\n",
    "\n",
    "# create writer for tensorboard\n",
    "now = datetime.now().strftime(\"%Y%m%d-%H:%M:%S\")\n",
    "outPath = LOG_PATH + now\n",
    "# writer = SummaryWriter('runs/02-pytorch')\n",
    "writer = SummaryWriter(outPath)\n",
    "\n",
    "# create Model\n",
    "model = FirstModel()\n",
    "\n",
    "# select appropriate loss function (BCE loss fits in this case: range 0:1)\n",
    "loss = nn.BCELoss()\n",
    "\n",
    "# select optimizer\n",
    "optimizer = torch.optim.SGD(model.parameters(), lr=0.01)\n",
    "\n",
    "# use high number for epochs to test tensorboard\n",
    "numEpochs = 1000\n",
    "\n",
    "errArr = np.zeros([numEpochs])\n",
    "# print(\"errors, shape: \", errArr.shape)\n",
    "# print(\"errors, ndim: \", errArr.ndim)\n",
    "\n",
    "# +++ Train model +++\n",
    "for epoch in range(numEpochs):\n",
    "    # reset optimizer\n",
    "    optimizer.zero_grad()\n",
    "\n",
    "    modelOut = model(X_train)\n",
    "    # print(\"Model:\\n\", modelOut)\n",
    "    # print(\"model dictionary: \\n\", model.state_dict())\n",
    "    # print(\"Shape(y): \", y.shape)\n",
    "\n",
    "    # calculate error for epoch\n",
    "    error = loss(modelOut, y_train)\n",
    "\n",
    "    # visualize progress in Tensorboard\n",
    "    writer.add_scalar(\"Loss over epochs\", error.item(), epoch)\n",
    "\n",
    "    print(\"Error: \", error)\n",
    "\n",
    "    # back propagation to improve weights\n",
    "    error.backward()\n",
    "\n",
    "    # optimize weights and bias\n",
    "    optimizer.step()\n",
    "\n",
    "    # store error and weight for visualization later\n",
    "    errArr[epoch] = error\n"
   ]
  },
  {
   "cell_type": "code",
   "execution_count": null,
   "metadata": {},
   "outputs": [],
   "source": [
    "# +++ Visualization +++\n",
    "plt.plot(errArr)\n",
    "plt.title(\"Error over epochs\")\n",
    "plt.xlabel(\"Number of epochs\")\n",
    "plt.ylabel(\"Error\")\n"
   ]
  },
  {
   "cell_type": "code",
   "execution_count": 102,
   "metadata": {},
   "outputs": [
    {
     "data": {
      "image/png": "[encoded data removed]",
      "text/plain": [
       "<Figure size 750x750 with 1 Axes>"
      ]
     },
     "metadata": {},
     "output_type": "display_data"
    }
   ],
   "source": [
    "# +++ Test model +++\n",
    "# apply model to test data\n",
    "y_pred = model(X_test)\n",
    "# generate integer data (0 or 1)\n",
    "y_res = torch.round(y_pred)\n",
    "\n",
    "# compare predicted result with real result: create confusion matrix\n",
    "confArr2d = confusion_matrix(\n",
    "    y_true=y_res.detach().numpy(), y_pred=y_test.detach().numpy()\n",
    ")\n",
    "#print(\"Confusion matrix: \\n\", confArr2d)\n",
    "\n",
    "# show confusion matrix\n",
    "fig, ax = plt.subplots(figsize=(7.5, 7.5))\n",
    "pltConfMatrix(ax, confArr2d, cmap = plt.cm.Blues, alpha=0.3)\n"
   ]
  },
  {
   "cell_type": "code",
   "execution_count": 76,
   "metadata": {},
   "outputs": [
    {
     "data": {
      "text/plain": [
       "array([[16,  0],\n",
       "       [14,  0]])"
      ]
     },
     "execution_count": 76,
     "metadata": {},
     "output_type": "execute_result"
    },
    {
     "name": "stdout",
     "output_type": "stream",
     "text": [
      "\u001b[0;31mSignature:\u001b[0m \u001b[0mconfusion\u001b[0m\u001b[0;34m(\u001b[0m\u001b[0mprediction\u001b[0m\u001b[0;34m,\u001b[0m \u001b[0mtruth\u001b[0m\u001b[0;34m)\u001b[0m\u001b[0;34m\u001b[0m\u001b[0;34m\u001b[0m\u001b[0m\n",
      "\u001b[0;31mDocstring:\u001b[0m\n",
      "Returns the confusion matrix for the values in the `prediction` and `truth`\n",
      "tensors, i.e. the amount of positions where the values of `prediction`\n",
      "and `truth` are\n",
      "- 1 and 1 (True Positive)\n",
      "- 1 and 0 (False Positive)\n",
      "- 0 and 0 (True Negative)\n",
      "- 0 and 1 (False Negative)\n",
      "\u001b[0;31mFile:\u001b[0m      /var/folders/63/3r98hjf137z17dq5ttq7swyc0000gn/T/ipykernel_48572/3112674214.py\n",
      "\u001b[0;31mType:\u001b[0m      function"
     ]
    }
   ],
   "source": [
    "# plt.matshow?\n",
    "confusion?\n",
    "np.reshape(confArr2d, (2, 2))\n"
   ]
  }
 ],
 "metadata": {
  "kernelspec": {
   "display_name": ".venv",
   "language": "python",
   "name": "python3"
  },
  "language_info": {
   "codemirror_mode": {
    "name": "ipython",
    "version": 3
   },
   "file_extension": ".py",
   "mimetype": "text/x-python",
   "name": "python",
   "nbconvert_exporter": "python",
   "pygments_lexer": "ipython3",
   "version": "3.9.6"
  }
 },
 "nbformat": 4,
 "nbformat_minor": 2
}
