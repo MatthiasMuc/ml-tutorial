{
 "cells": [
  {
   "cell_type": "code",
   "execution_count": null,
   "metadata": {},
   "outputs": [],
   "source": [
    "# Load the TensorBoard notebook extension\n",
    "%load_ext tensorboard\n",
    "#%tensorboard --logdir runs\n"
   ]
  },
  {
   "cell_type": "code",
   "execution_count": null,
   "metadata": {},
   "outputs": [],
   "source": [
    "from datetime import datetime\n",
    "import matplotlib.pyplot as plt\n",
    "import numpy as np\n",
    "import pandas as pd\n",
    "import torch\n",
    "import torch.nn as nn\n",
    "from torch.utils.tensorboard import SummaryWriter\n",
    "\n",
    "# Constants\n",
    "DATA_PATH = \"../../data/iris_binary.csv\"\n",
    "\n",
    "\n"
   ]
  },
  {
   "cell_type": "code",
   "execution_count": null,
   "metadata": {},
   "outputs": [],
   "source": [
    "def read_data(dataPath):\n",
    "    data = pd.read_csv(DATA_PATH)\n",
    "    print(data.head())\n",
    "    return torch.tensor(data.values,dtype=torch.float)\n"
   ]
  },
  {
   "cell_type": "code",
   "execution_count": null,
   "metadata": {},
   "outputs": [],
   "source": [
    "device = torch.device(\"cuda:0\" if torch.cuda.is_available() else \"cpu\")\n"
   ]
  },
  {
   "cell_type": "code",
   "execution_count": null,
   "metadata": {},
   "outputs": [],
   "source": [
    "class FirstModel(nn.Module):\n",
    "    def __init__(self):\n",
    "        super(FirstModel, self).__init__()\n",
    "        # first layer: input layer (4 values)\n",
    "        self.fc1 = nn.Linear(4,4)\n",
    "        # second layer: output layer layer (4 input values, 1 output layer)\n",
    "        self.fc2 = nn.Linear(4,1)\n",
    "\n",
    "    # function for forwarding: must be passed through all layers\n",
    "    def forward(self, x):\n",
    "\n",
    "        # input layer - activation:\n",
    "        #x = torch.sigmoid(self.fc1(x))\n",
    "        x = self.fc1(x)\n",
    "\n",
    "        # output layer - activation:\n",
    "        x = torch.sigmoid(self.fc2(x))\n",
    "\n",
    "        #print(\"forwar: return \", x)\n",
    "        return x\n"
   ]
  },
  {
   "cell_type": "code",
   "execution_count": null,
   "metadata": {},
   "outputs": [],
   "source": [
    "#nn.Linear?\n"
   ]
  },
  {
   "cell_type": "code",
   "execution_count": null,
   "metadata": {},
   "outputs": [],
   "source": [
    "# read iris data\n",
    "dataArr = read_data(DATA_PATH)\n",
    "# print(\"dataArr: \", dataArr)\n",
    "\n",
    "# create writer for tensorboard\n",
    "now = datetime.now().strftime('%Y%m%d-%H:%M:%S')\n",
    "print(now)\n",
    "#print(type(now))\n",
    "outPath = 'runs/02-pytorch/' + now\n",
    "#writer = SummaryWriter('runs/02-pytorch')\n",
    "writer = SummaryWriter(outPath)\n",
    "\n",
    "# create Model\n",
    "model = FirstModel()\n",
    "\n",
    "# select appropriate loss function (BCE loss fits in this case: range 0:1)\n",
    "loss = nn.BCELoss()\n",
    "\n",
    "# select optimizer\n",
    "optimizer = torch.optim.SGD(model.parameters(), lr=0.01)\n",
    "\n",
    "# use high number for epochs to test tensorboard\n",
    "numEpochs = 1000\n",
    "\n",
    "errArr = np.zeros([numEpochs])\n",
    "# print(\"errors, shape: \", errArr.shape)\n",
    "# print(\"errors, ndim: \", errArr.ndim)\n",
    "\n",
    "for epoch in range(numEpochs):\n",
    "    # reset optimizer\n",
    "    optimizer.zero_grad()\n",
    "\n",
    "    # select data\n",
    "    X = dataArr[:, 0:4]\n",
    "    # print(\"X: \", X)\n",
    "    y = dataArr[:, 4]\n",
    "    y = y.view(y.shape[0], 1)\n",
    "\n",
    "    modelOut = model(X)\n",
    "\n",
    "    # print(\"Model:\\n\", modelOut)\n",
    "    # print(\"model dictionary: \\n\", model.state_dict())\n",
    "    # print(\"Shape(y): \", y.shape)\n",
    "    error = loss(modelOut, y)\n",
    "\n",
    "    # visualize progress in Tensorboard\n",
    "    writer.add_scalar(\"Loss over epochs\", error.item(), epoch)\n",
    "\n",
    "    # print(\"Error: \", error)\n",
    "\n",
    "    # back propagation to improve weights\n",
    "    error.backward()\n",
    "\n",
    "    # optimize weights and bias\n",
    "    optimizer.step()\n",
    "\n",
    "    # store error and weight for visualization later\n",
    "    errArr[epoch] = error\n"
   ]
  },
  {
   "cell_type": "code",
   "execution_count": null,
   "metadata": {},
   "outputs": [],
   "source": [
    "# +++ Visualization +++\n",
    "plt.plot(errArr)\n",
    "plt.title(\"Error over epochs\")\n",
    "plt.xlabel(\"Number of epochs\")\n",
    "plt.ylabel(\"Error\")\n"
   ]
  }
 ],
 "metadata": {
  "kernelspec": {
   "display_name": ".venv",
   "language": "python",
   "name": "python3"
  },
  "language_info": {
   "codemirror_mode": {
    "name": "ipython",
    "version": 3
   },
   "file_extension": ".py",
   "mimetype": "text/x-python",
   "name": "python",
   "nbconvert_exporter": "python",
   "pygments_lexer": "ipython3",
   "version": "3.9.6"
  }
 },
 "nbformat": 4,
 "nbformat_minor": 2
}
