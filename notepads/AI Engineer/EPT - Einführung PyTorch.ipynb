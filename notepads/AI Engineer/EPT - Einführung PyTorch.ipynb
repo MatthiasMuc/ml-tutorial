{
 "cells": [
  {
   "cell_type": "markdown",
   "metadata": {},
   "source": [
    "# Einführung PyTorch"
   ]
  },
  {
   "cell_type": "markdown",
   "metadata": {},
   "source": [
    "### Torch Tensor als zentrales Objekt"
   ]
  },
  {
   "cell_type": "code",
   "execution_count": 4,
   "metadata": {},
   "outputs": [
    {
     "name": "stdout",
     "output_type": "stream",
     "text": [
      "tensor([10.5000,  5.5000])\n"
     ]
    }
   ],
   "source": [
    "import torch\n",
    "\n",
    "x = torch.tensor([10.5, 5.5])\n",
    "print(x) #tensor([10.5000,  5.5000])\n"
   ]
  },
  {
   "cell_type": "markdown",
   "metadata": {},
   "source": [
    "### Torch Tensor als zentrales Objekt"
   ]
  },
  {
   "cell_type": "code",
   "execution_count": 2,
   "metadata": {},
   "outputs": [],
   "source": [
    "x = torch.rand(5, 3)\n",
    "y = torch.zeros(5, 3)\n",
    "z = torch.ones(5, 3)\n"
   ]
  },
  {
   "cell_type": "markdown",
   "metadata": {},
   "source": [
    "### Datentyp und Speichergrößenzuweisung"
   ]
  },
  {
   "cell_type": "code",
   "execution_count": 3,
   "metadata": {},
   "outputs": [],
   "source": [
    "float64 = torch.tensor([10, 5],dtype=torch.double)\n",
    "float32 = torch.tensor([10, 5],dtype=torch.float)\n",
    "int32 = torch.tensor([10, 5],dtype=torch.int)\n",
    "int16 = torch.tensor([10, 5],dtype=torch.short)\n"
   ]
  },
  {
   "cell_type": "markdown",
   "metadata": {},
   "source": [
    "### Mathematische Operationen mit Tensoren"
   ]
  },
  {
   "cell_type": "code",
   "execution_count": 4,
   "metadata": {},
   "outputs": [
    {
     "name": "stdout",
     "output_type": "stream",
     "text": [
      "tensor([14, 17])\n",
      "tensor([ 6, -7])\n",
      "tensor([40, 60])\n",
      "tensor([2.5000, 0.4167])\n",
      "tensor(100)\n"
     ]
    }
   ],
   "source": [
    "a = torch.tensor([10, 5])\n",
    "b = torch.tensor([4, 12])\n",
    "print(a+b) #tensor([14, 17])\n",
    "print(a-b) #tensor([ 6, -7])\n",
    "print(a*b) #tensor([40, 60])\n",
    "print(a/b) #tensor([2, 0])\n",
    "print(torch.dot(a, b)) #tensor(100)\n"
   ]
  },
  {
   "cell_type": "markdown",
   "metadata": {},
   "source": [
    "### Formveränderung mit Torch Tensoren"
   ]
  },
  {
   "cell_type": "code",
   "execution_count": 5,
   "metadata": {},
   "outputs": [
    {
     "ename": "RuntimeError",
     "evalue": "shape '[10, 12]' is invalid for input of size 180",
     "output_type": "error",
     "traceback": [
      "\u001b[0;31m---------------------------------------------------------------------------\u001b[0m",
      "\u001b[0;31mRuntimeError\u001b[0m                              Traceback (most recent call last)",
      "\u001b[0;32m/tmp/ipykernel_247/4280600921.py\u001b[0m in \u001b[0;36m<module>\u001b[0;34m\u001b[0m\n\u001b[1;32m      3\u001b[0m \u001b[0mx\u001b[0m\u001b[0;34m.\u001b[0m\u001b[0mview\u001b[0m\u001b[0;34m(\u001b[0m\u001b[0;36m9\u001b[0m\u001b[0;34m,\u001b[0m\u001b[0;36m20\u001b[0m\u001b[0;34m)\u001b[0m \u001b[0;31m#valid shape\u001b[0m\u001b[0;34m\u001b[0m\u001b[0;34m\u001b[0m\u001b[0m\n\u001b[1;32m      4\u001b[0m \u001b[0mx\u001b[0m\u001b[0;34m.\u001b[0m\u001b[0mview\u001b[0m\u001b[0;34m(\u001b[0m\u001b[0;36m9\u001b[0m\u001b[0;34m,\u001b[0m\u001b[0;36m1\u001b[0m\u001b[0;34m,\u001b[0m\u001b[0;36m5\u001b[0m\u001b[0;34m,\u001b[0m\u001b[0;36m4\u001b[0m\u001b[0;34m)\u001b[0m \u001b[0;31m#valid shape\u001b[0m\u001b[0;34m\u001b[0m\u001b[0;34m\u001b[0m\u001b[0m\n\u001b[0;32m----> 5\u001b[0;31m \u001b[0mx\u001b[0m\u001b[0;34m.\u001b[0m\u001b[0mview\u001b[0m\u001b[0;34m(\u001b[0m\u001b[0;36m10\u001b[0m\u001b[0;34m,\u001b[0m\u001b[0;36m12\u001b[0m\u001b[0;34m)\u001b[0m \u001b[0;31m#invalid shape\u001b[0m\u001b[0;34m\u001b[0m\u001b[0;34m\u001b[0m\u001b[0m\n\u001b[0m",
      "\u001b[0;31mRuntimeError\u001b[0m: shape '[10, 12]' is invalid for input of size 180"
     ]
    }
   ],
   "source": [
    "x = torch.ones(6, 3, 10)\n",
    "x.view(18,10) #valid shape\n",
    "x.view(9,20) #valid shape\n",
    "x.view(9,1,5,4) #valid shape\n",
    "x.view(10,12) #invalid shape\n"
   ]
  },
  {
   "cell_type": "markdown",
   "metadata": {},
   "source": [
    "### Integration mit Numpy"
   ]
  },
  {
   "cell_type": "code",
   "execution_count": null,
   "metadata": {},
   "outputs": [],
   "source": [
    "import numpy as np\n",
    "\n",
    "x = np.array([10,5])\n",
    "y = torch.from_numpy(x)\n",
    "z = y.numpy()\n",
    "print(type(x)) #<class 'numpy.ndarray'>\n",
    "print(type(y)) #<class 'torch.Tensor'>\n",
    "print(type(z)) #<class 'numpy.ndarray'>\n"
   ]
  },
  {
   "cell_type": "markdown",
   "metadata": {},
   "source": [
    "### Torch Item"
   ]
  },
  {
   "cell_type": "code",
   "execution_count": null,
   "metadata": {},
   "outputs": [],
   "source": [
    "x = torch.rand(1)\n",
    "print(x) #tensor([0.4546])\n",
    "print(x.item()) #0.45460134744644165\n"
   ]
  },
  {
   "cell_type": "markdown",
   "metadata": {},
   "source": [
    "### GPU / CPU Berechnung I"
   ]
  },
  {
   "cell_type": "code",
   "execution_count": null,
   "metadata": {},
   "outputs": [],
   "source": [
    "device = torch.device('cuda:0' if torch.cuda.is_available() else 'cpu')\n",
    "print('This Computation is running on {}'.format(device))\n"
   ]
  },
  {
   "cell_type": "markdown",
   "metadata": {},
   "source": [
    "### GPU / CPU Berechnung II"
   ]
  },
  {
   "cell_type": "code",
   "execution_count": 6,
   "metadata": {},
   "outputs": [
    {
     "name": "stdout",
     "output_type": "stream",
     "text": [
      "tensor([40, 60])\n"
     ]
    }
   ],
   "source": [
    "device = torch.device('cuda:0' if torch.cuda.is_available() else 'cpu')\n",
    "\n",
    "#Tensoren, die auf die Grafikkarte geschoben wurden, wenn verfügbar\n",
    "a = torch.tensor([10, 5]).to(device)\n",
    "b = torch.tensor([4, 12], device=device)\n",
    "\n",
    "#Berechnung auf Grafikkarte, wenn verfügbar\n",
    "print(a*b) #tensor([40, 60])\n"
   ]
  },
  {
   "cell_type": "markdown",
   "metadata": {},
   "source": [
    "### Gradient Graph"
   ]
  },
  {
   "cell_type": "code",
   "execution_count": 7,
   "metadata": {},
   "outputs": [
    {
     "name": "stdout",
     "output_type": "stream",
     "text": [
      "True\n",
      "tensor([10.])\n"
     ]
    }
   ],
   "source": [
    "weight = torch.tensor([5.0], requires_grad=True)\n",
    "result = (weight**2) + 10\n",
    "print(result.requires_grad) #True\n",
    "result.backward()\n",
    "print(weight.grad) #tensor([10.])\n"
   ]
  },
  {
   "cell_type": "markdown",
   "metadata": {},
   "source": [
    "### Gradient Graph Plot"
   ]
  },
  {
   "cell_type": "code",
   "execution_count": 27,
   "metadata": {},
   "outputs": [
    {
     "data": {
      "image/png": "[encoded data removed]",
      "text/plain": [
       "<Figure size 576x432 with 1 Axes>"
      ]
     },
     "metadata": {
      "needs_background": "light"
     },
     "output_type": "display_data"
    }
   ],
   "source": [
    "import matplotlib.pyplot as plt\n",
    "import numpy as np\n",
    "\n",
    "weight = np.linspace(-10,10,100)\n",
    "y = (weight**2) + 10\n",
    "\n",
    "plt.figure(figsize=(8,6))\n",
    "plt.plot(weight,y,label=\"Funktion\",color=\"#1ACC94\")\n",
    "plt.plot(weight,2*weight,label=\"Ableitung\",color=\"#CC1B58\")\n",
    "plt.axhline(y=0,ls=\"--\",c=\"grey\")\n",
    "plt.title('Funktion und Ableitung')\n",
    "plt.legend()\n",
    "plt.show()\n"
   ]
  },
  {
   "cell_type": "markdown",
   "metadata": {},
   "source": [
    "## Throwback "
   ]
  },
  {
   "cell_type": "markdown",
   "metadata": {},
   "source": [
    "### MSE validieren"
   ]
  },
  {
   "cell_type": "code",
   "execution_count": 9,
   "metadata": {},
   "outputs": [
    {
     "name": "stdout",
     "output_type": "stream",
     "text": [
      "tensor(394252.7188, grad_fn=<MeanBackward0>)\n"
     ]
    }
   ],
   "source": [
    "studying = torch.tensor([84, 1323, 282, 957, 1386, 810, 396, 474, 501, 660, 1260, 1005, 1110, 1290],dtype=torch.float)\n",
    "weight = torch.tensor([0.75], requires_grad=True)\n",
    "result = torch.tensor([44, 97, 30, 51, 95, 51, 44, 41, 21, 40, 90, 83, 61, 92],dtype=torch.float)\n",
    "\n",
    "def mse(w):\n",
    "    return (result - (studying*w)).pow(2).mean()\n",
    "\n",
    "print(mse(weight))\n"
   ]
  },
  {
   "cell_type": "markdown",
   "metadata": {},
   "source": [
    "![Image of Yaktocat](https://full-stack-machine-learning.s3.eu-central-1.amazonaws.com/fsml-nb-01-img-01.jpg)"
   ]
  },
  {
   "cell_type": "markdown",
   "metadata": {},
   "source": [
    "### Gradient berechnen"
   ]
  },
  {
   "cell_type": "code",
   "execution_count": 10,
   "metadata": {},
   "outputs": [
    {
     "name": "stdout",
     "output_type": "stream",
     "text": [
      "Ableitung:  1157081.625\n",
      "Gradient von PyTorch:  1157081.625\n"
     ]
    }
   ],
   "source": [
    "mse(weight).backward() #PyTorch Ableitung der Error Funktion\n",
    "\n",
    "#Äquivalente Ergebnisse\n",
    "print(\"Ableitung: \",(2*studying*((studying*weight)-result)).mean().item())\n",
    "print(\"Gradient von PyTorch: \", weight.grad.item())\n"
   ]
  },
  {
   "cell_type": "markdown",
   "metadata": {},
   "source": [
    "### Naive Gradient Descent"
   ]
  },
  {
   "cell_type": "code",
   "execution_count": 11,
   "metadata": {},
   "outputs": [
    {
     "name": "stdout",
     "output_type": "stream",
     "text": [
      "MSE nach 20 Iterationen:  204.59275817871094\n",
      "Optimales Gewicht:  0.06922502815723419\n"
     ]
    }
   ],
   "source": [
    "w = torch.rand(1,requires_grad=True)\n",
    "\n",
    "for i in range(20):\n",
    "    mse(w).backward()\n",
    "    w = w.detach() - 0.000001 * w.grad\n",
    "    w.requires_grad=True\n",
    "\n",
    "print('MSE nach 20 Iterationen: ',mse(w).item())\n",
    "print('Optimales Gewicht: ',w.item())\n"
   ]
  },
  {
   "cell_type": "markdown",
   "metadata": {},
   "source": [
    "### Loss Function statt eigener Funktion"
   ]
  },
  {
   "cell_type": "code",
   "execution_count": 12,
   "metadata": {},
   "outputs": [
    {
     "name": "stdout",
     "output_type": "stream",
     "text": [
      "MSE nach 20 Iterationen:  204.66624450683594\n",
      "Optimales Gewicht:  0.06933655589818954\n"
     ]
    }
   ],
   "source": [
    "loss = torch.nn.MSELoss()\n",
    "w = torch.rand(1,requires_grad=True)\n",
    "\n",
    "for i in range(20):\n",
    "    error = loss(studying*w,result)\n",
    "    error.backward()\n",
    "    w = w.detach() - 0.000001 * w.grad\n",
    "    w.requires_grad=True\n",
    "\n",
    "print('MSE nach 20 Iterationen: ',loss(studying*w,result).item())\n",
    "print('Optimales Gewicht: ',w.item())\n"
   ]
  },
  {
   "cell_type": "markdown",
   "metadata": {},
   "source": [
    "### Optimizer statt eigener Gewichtsanpassung"
   ]
  },
  {
   "cell_type": "code",
   "execution_count": 13,
   "metadata": {},
   "outputs": [
    {
     "name": "stdout",
     "output_type": "stream",
     "text": [
      "MSE nach 20 Iterationen:  204.7529296875\n",
      "Optimales Gewicht:  0.0694396048784256\n"
     ]
    }
   ],
   "source": [
    "loss = torch.nn.MSELoss()\n",
    "w = torch.rand(1,requires_grad=True)\n",
    "optimizer = torch.optim.SGD([w], lr=0.000001)\n",
    "\n",
    "for i in range(20):\n",
    "    optimizer.zero_grad()\n",
    "    error = loss(studying*w,result).backward()\n",
    "    optimizer.step()\n",
    "\n",
    "print('MSE nach 20 Iterationen: ',loss(studying*w,result).item())\n",
    "print('Optimales Gewicht: ',w.item())\n"
   ]
  },
  {
   "cell_type": "markdown",
   "metadata": {},
   "source": [
    "## Neuronale Netze"
   ]
  },
  {
   "cell_type": "markdown",
   "metadata": {},
   "source": [
    "### Model statt Gewicht"
   ]
  },
  {
   "cell_type": "code",
   "execution_count": 5,
   "metadata": {},
   "outputs": [
    {
     "ename": "AttributeError",
     "evalue": "module 'matplotlib' has no attribute 'figure'",
     "output_type": "error",
     "traceback": [
      "\u001b[0;31m---------------------------------------------------------------------------\u001b[0m",
      "\u001b[0;31mAttributeError\u001b[0m                            Traceback (most recent call last)",
      "\u001b[1;32m/Users/matthiasbandorf/wb/git-repos/ml-tutorial/notepads/AI Engineer/EPT - Einführung PyTorch.ipynb Cell 38\u001b[0m line \u001b[0;36m3\n\u001b[1;32m     <a href='vscode-notebook-cell:/Users/matthiasbandorf/wb/git-repos/ml-tutorial/notepads/AI%20Engineer/EPT%20-%20Einfu%CC%88hrung%20PyTorch.ipynb#X52sZmlsZQ%3D%3D?line=30'>31</a>\u001b[0m     error\u001b[39m.\u001b[39mbackward()\n\u001b[1;32m     <a href='vscode-notebook-cell:/Users/matthiasbandorf/wb/git-repos/ml-tutorial/notepads/AI%20Engineer/EPT%20-%20Einfu%CC%88hrung%20PyTorch.ipynb#X52sZmlsZQ%3D%3D?line=31'>32</a>\u001b[0m     optimizer\u001b[39m.\u001b[39mstep()\n\u001b[0;32m---> <a href='vscode-notebook-cell:/Users/matthiasbandorf/wb/git-repos/ml-tutorial/notepads/AI%20Engineer/EPT%20-%20Einfu%CC%88hrung%20PyTorch.ipynb#X52sZmlsZQ%3D%3D?line=33'>34</a>\u001b[0m plt\u001b[39m.\u001b[39;49mfigure(figsize\u001b[39m=\u001b[39m(\u001b[39m8\u001b[39m,\u001b[39m6\u001b[39m))\n\u001b[1;32m     <a href='vscode-notebook-cell:/Users/matthiasbandorf/wb/git-repos/ml-tutorial/notepads/AI%20Engineer/EPT%20-%20Einfu%CC%88hrung%20PyTorch.ipynb#X52sZmlsZQ%3D%3D?line=34'>35</a>\u001b[0m plt\u001b[39m.\u001b[39mplot(epoch_errors,color\u001b[39m=\u001b[39m\u001b[39m\"\u001b[39m\u001b[39m#1ACC94\u001b[39m\u001b[39m\"\u001b[39m)\n\u001b[1;32m     <a href='vscode-notebook-cell:/Users/matthiasbandorf/wb/git-repos/ml-tutorial/notepads/AI%20Engineer/EPT%20-%20Einfu%CC%88hrung%20PyTorch.ipynb#X52sZmlsZQ%3D%3D?line=35'>36</a>\u001b[0m plt\u001b[39m.\u001b[39mtitle(\u001b[39m'\u001b[39m\u001b[39mLoss Entwicklung über Epochen\u001b[39m\u001b[39m'\u001b[39m)\n",
      "File \u001b[0;32m~/wb/git-repos/ml-tutorial/.venv/lib/python3.9/site-packages/matplotlib/_api/__init__.py:217\u001b[0m, in \u001b[0;36mcaching_module_getattr.<locals>.__getattr__\u001b[0;34m(name)\u001b[0m\n\u001b[1;32m    215\u001b[0m \u001b[39mif\u001b[39;00m name \u001b[39min\u001b[39;00m props:\n\u001b[1;32m    216\u001b[0m     \u001b[39mreturn\u001b[39;00m props[name]\u001b[39m.\u001b[39m\u001b[39m__get__\u001b[39m(instance)\n\u001b[0;32m--> 217\u001b[0m \u001b[39mraise\u001b[39;00m \u001b[39mAttributeError\u001b[39;00m(\n\u001b[1;32m    218\u001b[0m     \u001b[39mf\u001b[39m\u001b[39m\"\u001b[39m\u001b[39mmodule \u001b[39m\u001b[39m{\u001b[39;00m\u001b[39mcls\u001b[39m\u001b[39m.\u001b[39m\u001b[39m__module__\u001b[39m\u001b[39m!r}\u001b[39;00m\u001b[39m has no attribute \u001b[39m\u001b[39m{\u001b[39;00mname\u001b[39m!r}\u001b[39;00m\u001b[39m\"\u001b[39m)\n",
      "\u001b[0;31mAttributeError\u001b[0m: module 'matplotlib' has no attribute 'figure'"
     ]
    }
   ],
   "source": [
    "import matplotlib as plt\n",
    "import pandas as pd\n",
    "import torch\n",
    "import torch.utils.data as data\n",
    "import torch.nn as nn\n",
    "import torch.nn.functional as F\n",
    "\n",
    "class Model(torch.nn.Module):\n",
    "    def __init__(self):\n",
    "        super(Model, self).__init__()\n",
    "        self.fc1 = nn.Linear(4,4)\n",
    "        self.fc2 = nn.Linear(4,1)\n",
    "\n",
    "    def forward(self,x):\n",
    "        x = F.relu(self.fc1(x))\n",
    "        x = torch.sigmoid(self.fc2(x))\n",
    "        return x\n",
    "\n",
    "data = torch.from_numpy(pd.read_csv('../../data/iris_binary.csv').to_numpy()).type(torch.FloatTensor)\n",
    "model = Model()\n",
    "loss = nn.BCELoss()\n",
    "optimizer = torch.optim.SGD(model.parameters(), lr=0.01)\n",
    "\n",
    "epoch_errors = []\n",
    "\n",
    "for epoch in range(1000):\n",
    "    optimizer.zero_grad()\n",
    "    X, y  = data[:,0:-1], data[:,-1:]\n",
    "    error = loss(model(X),y)\n",
    "    epoch_errors.append(error.item())\n",
    "    error.backward()\n",
    "    optimizer.step()\n",
    "\n",
    "plt.figure(figsize=(8,6))\n",
    "plt.plot(epoch_errors,color=\"#1ACC94\")\n",
    "plt.title('Loss Entwicklung über Epochen')\n",
    "plt.xlabel('Epochen')\n",
    "plt.ylabel('Loss')\n",
    "plt.show()\n"
   ]
  },
  {
   "cell_type": "markdown",
   "metadata": {},
   "source": [
    "### Beliebige Layer im Modell anordnen"
   ]
  },
  {
   "cell_type": "code",
   "execution_count": 18,
   "metadata": {},
   "outputs": [],
   "source": [
    "class Net(nn.Module):\n",
    "    def __init__(self):\n",
    "        super(Net, self).__init__()\n",
    "        self.conv1 = nn.Conv2d(3,6,5)\n",
    "        self.conv1_bn = nn.BatchNorm2d(6)\n",
    "        self.pool1 = nn.MaxPool2d(2,2)\n",
    "        self.conv2 = nn.Conv2d(6,16,5)\n",
    "        self.conv2_bn = nn.BatchNorm2d(16)\n",
    "\n",
    "        self.fc1 = nn.Linear(16*5*5,200)\n",
    "        self.fc2 = nn.Linear(200,150)\n",
    "        self.fc3 = nn.Linear(150,10)\n",
    "\n",
    "    def forward(self,x):\n",
    "        x = self.pool1(self.conv1_bn(self.conv1(x)))\n",
    "        x = self.pool1(self.conv2_bn(self.conv2(x)))\n",
    "\n",
    "        x = x.view(-1,16*5*5)\n",
    "        x = F.relu(self.fc1(x))\n",
    "        x = F.relu(self.fc2(x))\n",
    "        x = F.softmax(self.fc3(x),dim=1)\n",
    "        return x\n"
   ]
  },
  {
   "cell_type": "markdown",
   "metadata": {},
   "source": [
    "### Torchsummary für Modellüberblick"
   ]
  },
  {
   "cell_type": "code",
   "execution_count": 19,
   "metadata": {},
   "outputs": [
    {
     "name": "stdout",
     "output_type": "stream",
     "text": [
      "----------------------------------------------------------------\n",
      "        Layer (type)               Output Shape         Param #\n",
      "================================================================\n",
      "            Conv2d-1            [-1, 6, 28, 28]             456\n",
      "       BatchNorm2d-2            [-1, 6, 28, 28]              12\n",
      "         MaxPool2d-3            [-1, 6, 14, 14]               0\n",
      "            Conv2d-4           [-1, 16, 10, 10]           2,416\n",
      "       BatchNorm2d-5           [-1, 16, 10, 10]              32\n",
      "         MaxPool2d-6             [-1, 16, 5, 5]               0\n",
      "            Linear-7                  [-1, 200]          80,200\n",
      "            Linear-8                  [-1, 150]          30,150\n",
      "            Linear-9                   [-1, 10]           1,510\n",
      "================================================================\n",
      "Total params: 114,776\n",
      "Trainable params: 114,776\n",
      "Non-trainable params: 0\n",
      "----------------------------------------------------------------\n",
      "Input size (MB): 0.01\n",
      "Forward/backward pass size (MB): 0.11\n",
      "Params size (MB): 0.44\n",
      "Estimated Total Size (MB): 0.56\n",
      "----------------------------------------------------------------\n"
     ]
    }
   ],
   "source": [
    "from torchsummary import summary\n",
    "net = Net()\n",
    "summary(net, (3,32,32))\n"
   ]
  },
  {
   "cell_type": "markdown",
   "metadata": {},
   "source": [
    "### Modell speichern"
   ]
  },
  {
   "cell_type": "code",
   "execution_count": 20,
   "metadata": {},
   "outputs": [],
   "source": [
    "torch.save({\n",
    "            'epoch': epoch,\n",
    "            'model_state_dict': model.state_dict(),\n",
    "            'optimizer_state_dict': optimizer.state_dict(),\n",
    "            'loss': loss,\n",
    "            }, \"export.pt\")\n"
   ]
  },
  {
   "cell_type": "code",
   "execution_count": null,
   "metadata": {},
   "outputs": [],
   "source": []
  }
 ],
 "metadata": {
  "kernelspec": {
   "display_name": "Python 3 (ipykernel)",
   "language": "python",
   "name": "python3"
  },
  "language_info": {
   "codemirror_mode": {
    "name": "ipython",
    "version": 3
   },
   "file_extension": ".py",
   "mimetype": "text/x-python",
   "name": "python",
   "nbconvert_exporter": "python",
   "pygments_lexer": "ipython3",
   "version": "3.9.6"
  }
 },
 "nbformat": 4,
 "nbformat_minor": 4
}
