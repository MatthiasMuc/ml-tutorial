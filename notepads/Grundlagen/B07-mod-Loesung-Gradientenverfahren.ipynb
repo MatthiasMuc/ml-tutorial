{
 "cells": [
  {
   "cell_type": "markdown",
   "id": "ce459c5e",
   "metadata": {
    "pycharm": {
     "name": "#%% md\n"
    }
   },
   "source": [
    "# *Aufgabe: Gradientenverfahren*"
   ]
  },
  {
   "cell_type": "markdown",
   "id": "a4b6f1a7",
   "metadata": {
    "pycharm": {
     "name": "#%% md\n"
    }
   },
   "source": [
    "0. Importieren Sie alle die nötigen Bibliotheken."
   ]
  },
  {
   "cell_type": "code",
   "execution_count": 7,
   "id": "1e0fd736",
   "metadata": {
    "pycharm": {
     "name": "#%%\n"
    }
   },
   "outputs": [],
   "source": [
    "import numpy as np\n",
    "from sklearn.preprocessing import MinMaxScaler\n",
    "import matplotlib.pyplot as plt\n",
    "from sklearn.metrics import accuracy_score\n",
    "from matplotlib import cm\n"
   ]
  },
  {
   "cell_type": "markdown",
   "id": "c41ab1e2",
   "metadata": {
    "pycharm": {
     "name": "#%% md\n"
    }
   },
   "source": [
    "1. Kopieren und visualisieren (am besten mit scatter) Sie die Daten:"
   ]
  },
  {
   "cell_type": "code",
   "execution_count": 8,
   "id": "220b168a",
   "metadata": {
    "pycharm": {
     "name": "#%%\n"
    }
   },
   "outputs": [
    {
     "data": {
      "image/png": "[encoded data removed]",
      "text/plain": [
       "<Figure size 640x480 with 1 Axes>"
      ]
     },
     "metadata": {},
     "output_type": "display_data"
    }
   ],
   "source": [
    "studying = np.array([84,1323,282,957,1386,810,396,474,501,660,1260,1005,1110,1290])\n",
    "result = np.array([44,97,30,51,95,51,44,41,21,40,90,83,61,92])\n",
    "\n",
    "plt.scatter(studying, result)\n",
    "plt.show()\n"
   ]
  },
  {
   "cell_type": "markdown",
   "id": "4135cb88",
   "metadata": {
    "pycharm": {
     "name": "#%% md\n"
    }
   },
   "source": [
    "2. Implementieren Sie das Gradientenverfahren für die Regressionsaufgabe. Es ist ausreichend, lineare Regression zu betrachten. "
   ]
  },
  {
   "cell_type": "code",
   "execution_count": 11,
   "id": "95ad7720",
   "metadata": {
    "pycharm": {
     "name": "#%%\n"
    }
   },
   "outputs": [
    {
     "name": "stdout",
     "output_type": "stream",
     "text": [
      "Lineares Modell: result = 0.05382241720542948 * studying + 15.544336342262378. Error: 2138.2721853540347\n"
     ]
    }
   ],
   "source": [
    "def sse(y_pred, y):\n",
    "    return np.sum((y_pred-y)**2)\n",
    "\n",
    "# Initialwerte\n",
    "w = 1\n",
    "b = 10\n",
    "# Anzahl der Epochen:\n",
    "epochs = 1000\n",
    "# Learning rate:\n",
    "lr_w = 0.00000001\n",
    "lr_b = 0.001\n",
    "\n",
    "error = []\n",
    "for _ in range(epochs):\n",
    "    predicted = w * studying + b\n",
    "    error.append(sse(predicted, result)) # Fehler für die spätere Visualisierung\n",
    "    gradient_w = 2 * np.dot(studying, predicted - result)\n",
    "    gradient_b = 2 * np.sum(predicted - result)\n",
    "    # das alte Gewicht w\n",
    "    w = w - lr_w * gradient_w\n",
    "    b = b - lr_b * gradient_b\n",
    "\n",
    "\n",
    "print(\"Lineares Modell: result = {} * studying + {}. Error: {}\".format(w, b, error[-1]))\n"
   ]
  },
  {
   "cell_type": "markdown",
   "id": "49c78e70",
   "metadata": {
    "pycharm": {
     "name": "#%% md\n"
    }
   },
   "source": [
    "3. Visualisieren Sie den Fehler: "
   ]
  },
  {
   "cell_type": "code",
   "execution_count": null,
   "id": "24d4f6f7",
   "metadata": {
    "pycharm": {
     "name": "#%%\n"
    }
   },
   "outputs": [],
   "source": [
    "fig = plt.figure(figsize=(10,10))\n",
    "ax = fig.add_subplot(111)\n",
    "ax.plot(range(epochs), error)\n",
    "ax.set_yscale('log')\n"
   ]
  },
  {
   "cell_type": "code",
   "execution_count": null,
   "id": "f1cf540e",
   "metadata": {
    "pycharm": {
     "name": "#%%\n"
    }
   },
   "outputs": [],
   "source": [
    "x = np.linspace(0, 1400)\n",
    "y = w * x + b\n",
    "\n",
    "plt.scatter(studying, result)\n",
    "plt.plot(x, y)\n",
    "\n",
    "plt.show()\n"
   ]
  },
  {
   "cell_type": "markdown",
   "id": "28a647bb",
   "metadata": {
    "pycharm": {
     "name": "#%% md\n"
    }
   },
   "source": [
    "Zusatzaufgabe 1. Implementieren Sie ein Momentum für Ihr Gradientenverfahren"
   ]
  },
  {
   "cell_type": "code",
   "execution_count": null,
   "id": "89eadce6",
   "metadata": {
    "pycharm": {
     "name": "#%%\n"
    }
   },
   "outputs": [],
   "source": [
    "w = 1\n",
    "b = 10\n",
    "\n",
    "momentum_w = 0.2\n",
    "momentum_b = 0.5\n",
    "velocity_w = 0.3\n",
    "velocity_b = 10\n",
    "epochs = 1000\n",
    "\n",
    "error = []\n",
    "# Mehrere Epochen trainieren\n",
    "for _ in range(epochs):\n",
    "    predicted = w * studying + b\n",
    "\n",
    "    error.append(sse(predicted, result))\n",
    "\n",
    "    gradient_w = 2 * np.dot(studying, predicted - result)\n",
    "    gradient_b = 2 * np.sum(predicted - result)\n",
    "    velocity_w = momentum_w * velocity_w - lr_w * gradient_w\n",
    "    w += velocity_w\n",
    "    velocity_b = momentum_b * velocity_b - lr_b * gradient_b\n",
    "    b += velocity_b\n",
    "\n",
    "print(\"Lineares Modell: result = {} * studying + {}. Fehler: {}\".format(w, b, error[-1]))\n",
    "\n",
    "fig = plt.figure(figsize=(10,10))\n",
    "ax = fig.add_subplot(111)\n",
    "ax.plot(range(epochs), error)\n",
    "ax.set_yscale('log')\n"
   ]
  },
  {
   "cell_type": "markdown",
   "id": "20cbb007",
   "metadata": {
    "pycharm": {
     "name": "#%% md\n"
    }
   },
   "source": [
    "Zusatzaufgabe 2: Wiederholen Sie den Schritt 2 für die Logistische Regression. "
   ]
  },
  {
   "cell_type": "code",
   "execution_count": null,
   "id": "1c03cb9c",
   "metadata": {
    "pycharm": {
     "name": "#%%\n"
    }
   },
   "outputs": [],
   "source": [
    "def logloss(y_pred, y):\n",
    "    return -np.mean(y * (np.log(y_pred)) + (1 - y) * np.log(1 - y_pred))\n",
    "\n",
    "def sigmoid(z):\n",
    "    return 1.0 / ( 1.0 + np.exp(-z))\n",
    "\n",
    "def softmax(z):\n",
    "    return np.exp(z)/sum(np.exp(z))\n",
    "\n",
    "def predict(x, w, b):\n",
    "    return np.clip(sigmoid(np.dot(x,w)+b), 0.0000001, 0.999999)\n",
    "\n",
    "def plot_original_data(ax, x, y):\n",
    "    ax.scatter(x[np.argwhere(y>=50)].ravel(),y[np.argwhere(y>=50)].ravel(),c=\"green\",label=\"Bestanden\")\n",
    "    ax.scatter(x[np.argwhere(y<50)].ravel(),y[np.argwhere(y<50)].ravel(),c=\"red\",label=\"Nicht bestanden\")\n",
    "\n",
    "def gradient(x,y,prediction):\n",
    "    m = x.shape[0]\n",
    "    dw = 1/m*np.sum(np.dot(x.T, (prediction - y)))\n",
    "    db = 1/m*np.sum((prediction - y))\n",
    "    return dw,db\n",
    "\n"
   ]
  },
  {
   "cell_type": "code",
   "execution_count": null,
   "id": "0fd8bacd",
   "metadata": {
    "pycharm": {
     "name": "#%%\n"
    },
    "scrolled": false
   },
   "outputs": [],
   "source": [
    "# Hier benutzen wir neue Daten, di wir selbst \"basteln\":\n",
    "x = np.random.randint(0,1400,50)\n",
    "y = x*0.053+16  # Das ist die bekannte Lösung\n",
    "y += np.random.normal(-5,5,50)  # Plus ein bisschen Rausch\n",
    "\n",
    "x = x.reshape(-1, 1)\n",
    "studying = x\n",
    "result = y\n",
    "#studying = np.array([84,1323,282,957,1386,810,396,474,501,660,1260,1005,1110,1290])\n",
    "result_binary = np.array([1 if i >= 50 else 0 for i in result])\n",
    "\n",
    "# X Werte normalisieren\n",
    "scaler = MinMaxScaler()\n",
    "studying = scaler.fit_transform(studying.reshape(-1, 1))\n",
    "\n",
    "# Initialwerte\n",
    "w = 0.3\n",
    "b = 0.3\n",
    "# Anzahl der Epochen:\n",
    "epochs = 8000\n",
    "# Learning rate:\n",
    "lr = 0.001\n",
    "\n",
    "error = []\n",
    "for _ in range(epochs):\n",
    "    #studying = studying.reshape(-1,1)\n",
    "    predicted = predict(studying, w, b)\n",
    "    error.append(logloss(predicted, result_binary)) # Fehler für die spätere Visualisierung\n",
    "    gradient_w, gradient_b = gradient(studying, result_binary, predicted.squeeze())\n",
    "\n",
    "    w -= lr * gradient_w\n",
    "    b -= lr * gradient_b\n",
    "\n",
    "score = accuracy_score(np.array([1 if i > 0.5 else 0 for i in predicted]), result_binary)*100\n",
    "\n",
    "print(\"Lineares Modell: result = sigmoid({} * studying + {}). Accuracy: {}%\".format(w, b, round(score, 2)))\n",
    "\n",
    "# Visualisierung Fehler:\n",
    "fig = plt.figure(figsize=(15,15))\n",
    "ax1 = fig.add_subplot(311)\n",
    "ax1.plot(range(epochs), error, label='LogLoss')\n",
    "ax1.set_yscale('log')\n",
    "ax1.legend()\n",
    "\n",
    "# Visualisierung Modell:\n",
    "ax2 = fig.add_subplot(312)\n",
    "ax2.set_title(\"Lineares Modell\")\n",
    "plot_original_data(ax2, studying, result)\n",
    "\n",
    "\n",
    "def discretize(x):\n",
    "    return np.where(x>=0.5,100,0)\n",
    "\n",
    "x_axis = np.linspace(0, 1)\n",
    "ax2.plot(x_axis, discretize(sigmoid(w * x_axis + b)))\n",
    "\n",
    "\n",
    "# Visualisierung Vorhersage:\n",
    "ax3 = fig.add_subplot(313)\n",
    "ax3.set_title(\"Vorhersage\")\n",
    "plot_original_data(ax3, studying, result)\n",
    "\n",
    "x_axis, y_axis = np.linspace(0, 1), np.linspace(0, 100)\n",
    "x1, x2 = np.meshgrid(x_axis, y_axis)\n",
    "\n",
    "z = np.array([predict(x_axis, w,  b) for y in y_axis])\n",
    "\n",
    "contourf_ = ax3.contourf(x1,x2,z.reshape(50,50),cmap=cm.RdYlGn,levels=50,alpha=0.3)\n",
    "fig.colorbar(contourf_, ax=ax3)\n"
   ]
  },
  {
   "cell_type": "code",
   "execution_count": null,
   "id": "1f7325b8",
   "metadata": {
    "pycharm": {
     "name": "#%%\n"
    }
   },
   "outputs": [],
   "source": []
  }
 ],
 "metadata": {
  "kernelspec": {
   "display_name": "Python 3 (ipykernel)",
   "language": "python",
   "name": "python3"
  },
  "language_info": {
   "codemirror_mode": {
    "name": "ipython",
    "version": 3
   },
   "file_extension": ".py",
   "mimetype": "text/x-python",
   "name": "python",
   "nbconvert_exporter": "python",
   "pygments_lexer": "ipython3",
   "version": "3.9.6"
  }
 },
 "nbformat": 4,
 "nbformat_minor": 5
}
