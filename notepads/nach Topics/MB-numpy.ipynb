{
 "cells": [
  {
   "cell_type": "code",
   "execution_count": null,
   "metadata": {},
   "outputs": [],
   "source": [
    "import numpy as np\n",
    "\n",
    "\n"
   ]
  },
  {
   "cell_type": "code",
   "execution_count": null,
   "metadata": {},
   "outputs": [],
   "source": [
    "arr = np.array([[1,2,3], [4,5,6]])\n",
    "\n",
    "print(\"arr: \\n\", arr)\n",
    "print(\"arr[-1]: \\n\", arr[-1])\n",
    "arr = np.random.randn(20)\n",
    "print(arr)\n"
   ]
  },
  {
   "cell_type": "markdown",
   "metadata": {},
   "source": [
    "try to understand meshgrid"
   ]
  },
  {
   "cell_type": "code",
   "execution_count": null,
   "metadata": {},
   "outputs": [],
   "source": [
    "\n",
    "#create array with values frm -5 to 5, step 0.01, equally distributed\n",
    "points = np.arange(-5, 5, 0.01)\n",
    "#print(points)\n",
    "#print(points.shape, points.ndim)\n",
    "xs, ys = np.meshgrid(points, points)\n",
    "#print(xs)\n",
    "#print(xs.shape, xs.ndim)\n",
    "points = np.arange(5)\n",
    "print(points)\n",
    "xs, ys = np.meshgrid(points, points)\n",
    "print(xs.shape, xs.ndim)\n",
    "print(\"xs:\\n\", xs)\n",
    "print(\"ys:\\n\", ys)\n",
    "\n",
    "z = np.sqrt(xs**2 +ys**2)\n",
    "print(z.shape, z.ndim)\n",
    "print(\"z:\\n\",z)\n"
   ]
  },
  {
   "cell_type": "markdown",
   "metadata": {},
   "source": [
    "\n",
    "now, let's look in dot"
   ]
  },
  {
   "cell_type": "code",
   "execution_count": 38,
   "metadata": {},
   "outputs": [
    {
     "name": "stdout",
     "output_type": "stream",
     "text": [
      "[20 44 68]\n",
      "[[ 1  5  9]\n",
      " [ 2  6 10]\n",
      " [ 3  7 11]\n",
      " [ 4  8 12]]\n",
      "res:\n",
      " [[ 30  70 110]\n",
      " [ 70 174 278]\n",
      " [110 278 446]]\n",
      "res:\n",
      " [[107 122 137 152]\n",
      " [122 140 158 176]\n",
      " [137 158 179 200]\n",
      " [152 176 200 224]]\n"
     ]
    }
   ],
   "source": [
    "arr34 = np.array([[1,2,3,4],[5,6,7,8],[9,10,11,12]])\n",
    "vec4 = np.arange(4)\n",
    "res = np.dot(arr34, vec4)\n",
    "print(res)\n",
    "#res = np.dot(arr34,arr34)\n",
    "arr43 = arr34.T\n",
    "print(arr43)\n",
    "res = np.dot(arr34,arr43)\n",
    "print(\"res:\\n\", res)\n",
    "res = np.dot(arr43,arr34)\n",
    "print(\"res:\\n\", res)\n",
    "\n"
   ]
  }
 ],
 "metadata": {
  "kernelspec": {
   "display_name": ".venv",
   "language": "python",
   "name": "python3"
  },
  "language_info": {
   "codemirror_mode": {
    "name": "ipython",
    "version": 3
   },
   "file_extension": ".py",
   "mimetype": "text/x-python",
   "name": "python",
   "nbconvert_exporter": "python",
   "pygments_lexer": "ipython3",
   "version": "3.9.6"
  }
 },
 "nbformat": 4,
 "nbformat_minor": 2
}
